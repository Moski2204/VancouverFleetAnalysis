{
 "cells": [
  {
   "metadata": {
    "ExecuteTime": {
     "end_time": "2025-05-15T23:27:22.008982Z",
     "start_time": "2025-05-15T23:27:21.959924Z"
    }
   },
   "cell_type": "code",
   "source": "import pandas as pd ",
   "id": "79b4c65f82b5c867",
   "outputs": [],
   "execution_count": 10
  },
  {
   "metadata": {
    "ExecuteTime": {
     "end_time": "2025-05-15T23:27:22.456200Z",
     "start_time": "2025-05-15T23:27:22.360522Z"
    }
   },
   "cell_type": "code",
   "source": "df = pd.read_csv('FA1 Scenario Dataset - Rolling Stock Fleet (1).csv')",
   "id": "d1f9128374d44846",
   "outputs": [],
   "execution_count": 11
  },
  {
   "metadata": {
    "ExecuteTime": {
     "end_time": "2025-05-15T23:27:23.649453Z",
     "start_time": "2025-05-15T23:27:23.617885Z"
    }
   },
   "cell_type": "code",
   "source": [
    "missing_pct = df.isnull().mean() * 100\n",
    "print(missing_pct.to_string()) #Shows the percentage of null values in each column"
   ],
   "id": "b31a658ffc9ffa2",
   "outputs": [
    {
     "name": "stdout",
     "output_type": "stream",
     "text": [
      "Equipment Number              0.000000\n",
      "Equipment Class               0.000000\n",
      "Equipment Category            0.000000\n",
      "Service Group                 0.000000\n",
      "Department                    0.000000\n",
      "Make                          0.000000\n",
      "Model                         0.000000\n",
      "Year                          0.000000\n",
      "Site                          0.000000\n",
      "Mileage2024 (km)             28.016878\n",
      "HourMeter2024 (hours)        69.620253\n",
      "DowntimeHours2024 (hours)     8.776371\n",
      "LaborHours2024 (hours)        8.776371\n"
     ]
    }
   ],
   "execution_count": 12
  },
  {
   "metadata": {
    "ExecuteTime": {
     "end_time": "2025-05-15T23:27:24.390093Z",
     "start_time": "2025-05-15T23:27:24.364913Z"
    }
   },
   "cell_type": "code",
   "source": [
    "#Counts the amount of different types of departments we have\n",
    "dept_counts = df['Department'].value_counts()\n",
    "print(dept_counts)"
   ],
   "id": "be4b6deef5209556",
   "outputs": [
    {
     "name": "stdout",
     "output_type": "stream",
     "text": [
      "Department\n",
      "ENGINEERING STREETS OPER.                      210\n",
      "PARK BOARD VANCOUVER EAST DISTRICT             116\n",
      "ENGINEERING SEWERS OPER.                       106\n",
      "ENGINEERING SANITATION UTILITY                  74\n",
      "PARK BOARD QUEEN ELIZABETH DISTRICT             73\n",
      "ENGINEERING WATERWORKS OPER.                    65\n",
      "ENGINEERING TRAFF & ELEC SRVCS                  63\n",
      "PARK BOARD PLANNING AND OPERATIONS              61\n",
      "ENGINEERING TRANSFER AND LANDFILL OPER.         52\n",
      "REAL ESTATE & FACILITIES MANAGEMENT             52\n",
      "ENGINEERING SANITATION OPER.                    51\n",
      "PARK BOARD STANLEY DISTRICT                     39\n",
      "ENGINEERING EQUIPMENT OPER.                     32\n",
      "ENGINEERING PARKING OPERATIONS ENFORCEMENT      29\n",
      "ENGINEERING EQS LOANER POOL                     25\n",
      "ENGINEERING EQUIPMENT CAR SHARE                 12\n",
      "ENGINEERING KENT CONSTRUCTION S & S             11\n",
      "ENGINEERING SMALL EQUIP. POOL                   11\n",
      "ENGINEERING PROJECTS                            10\n",
      "ENGINEERING STREETS DESIGN                       8\n",
      "ENGINEERING PARKING OPERATIONS COLLECTIONS       8\n",
      "VANCOUVER ANIMAL CONTROL                         8\n",
      "ENGINEERING SEWERS & DRAINAGE DESIGN             7\n",
      "ENGINEERING PARKING OPERATIONS MAINTENANCE       6\n",
      "CEMETERY                                         5\n",
      "LIBRARY                                          5\n",
      "ENGINEERING WATERWORKS DESIGN                    5\n",
      "ENGINEERING SOLID WASTE MNGMNT                   4\n",
      "LICENSES AND INSPECTIONS CITY HALL               3\n",
      "ENGINEERING TRAFFIC MANAGEMENT                   3\n",
      "FINANCE CENTRAL STORES                           3\n",
      "ENGINEERING SURVEY                               3\n",
      "ENGINEERING ELECTRICAL DESIGN                    3\n",
      "ENGINEERING YARDS                                2\n",
      "FINANCE ADMINISTRATION                           2\n",
      "ENGINEERING STREETS STRUCTURES                   2\n",
      "HR EMERGENCY MANAGEMENT                          2\n",
      "CITY CARPOOL PROGRAM                             2\n",
      "FINANCE BYLAW FINES                              1\n",
      "FACILITIES - TACTICAL TRAINING CENTRE            1\n",
      "PLANNING                                         1\n",
      "PARK BOARD UNSPECIFIED                           1\n",
      "ENGINEERING FILM/SPECIAL EVENTS                  1\n",
      "ENGINEERING STREETS ADMIN                        1\n",
      "COMMUNITY SERVICES GROUP                         1\n",
      "COMMUNITY SERVICES GROUP NON-MARKET HOUSING      1\n",
      "CIVIC THEATRES                                   1\n",
      "CITY MANAGERS OFFICE                             1\n",
      "ENGINEERING EQUIPMENT MNGMNT.                    1\n",
      "FINANCE GENERAL MANAGER'S OFFICE                 1\n",
      "Name: count, dtype: int64\n"
     ]
    }
   ],
   "execution_count": 13
  },
  {
   "metadata": {
    "ExecuteTime": {
     "end_time": "2025-05-15T23:27:25.292671Z",
     "start_time": "2025-05-15T23:27:25.280869Z"
    }
   },
   "cell_type": "code",
   "source": [
    "#Counts the amount of equipment category we have for each\n",
    "equip_type = df['Equipment Category'].value_counts()\n",
    "print(equip_type)"
   ],
   "id": "a4f1b0abcbe3a049",
   "outputs": [
    {
     "name": "stdout",
     "output_type": "stream",
     "text": [
      "Equipment Category\n",
      "light duty    549\n",
      "hvy trk       378\n",
      "hvy equip     258\n",
      "Name: count, dtype: int64\n"
     ]
    }
   ],
   "execution_count": 14
  },
  {
   "metadata": {},
   "cell_type": "code",
   "outputs": [],
   "execution_count": null,
   "source": "",
   "id": "5f7442d37996ed8d"
  }
 ],
 "metadata": {
  "kernelspec": {
   "display_name": "Python 3",
   "language": "python",
   "name": "python3"
  },
  "language_info": {
   "codemirror_mode": {
    "name": "ipython",
    "version": 2
   },
   "file_extension": ".py",
   "mimetype": "text/x-python",
   "name": "python",
   "nbconvert_exporter": "python",
   "pygments_lexer": "ipython2",
   "version": "2.7.6"
  }
 },
 "nbformat": 4,
 "nbformat_minor": 5
}
