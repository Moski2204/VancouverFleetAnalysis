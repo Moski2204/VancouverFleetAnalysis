{
 "cells": [
  {
   "metadata": {
    "ExecuteTime": {
     "end_time": "2025-05-15T23:27:22.008982Z",
     "start_time": "2025-05-15T23:27:21.959924Z"
    }
   },
   "cell_type": "code",
   "source": "import pandas as pd ",
   "id": "79b4c65f82b5c867",
   "outputs": [],
   "execution_count": 10
  },
  {
   "metadata": {
    "ExecuteTime": {
     "end_time": "2025-05-15T23:27:22.456200Z",
     "start_time": "2025-05-15T23:27:22.360522Z"
    }
   },
   "cell_type": "code",
   "source": "df = pd.read_csv('FA1 Scenario Dataset - Rolling Stock Fleet (1).csv')",
   "id": "d1f9128374d44846",
   "outputs": [],
   "execution_count": 11
  },
  {
   "metadata": {
    "ExecuteTime": {
     "end_time": "2025-05-15T23:27:23.649453Z",
     "start_time": "2025-05-15T23:27:23.617885Z"
    }
   },
   "cell_type": "code",
   "source": [
    "missing_pct = df.isnull().mean() * 100\n",
    "print(missing_pct.to_string()) #Shows the percentage of null values in each column"
   ],
   "id": "b31a658ffc9ffa2",
   "outputs": [
    {
     "name": "stdout",
     "output_type": "stream",
     "text": [
      "Equipment Number              0.000000\n",
      "Equipment Class               0.000000\n",
      "Equipment Category            0.000000\n",
      "Service Group                 0.000000\n",
      "Department                    0.000000\n",
      "Make                          0.000000\n",
      "Model                         0.000000\n",
      "Year                          0.000000\n",
      "Site                          0.000000\n",
      "Mileage2024 (km)             28.016878\n",
      "HourMeter2024 (hours)        69.620253\n",
      "DowntimeHours2024 (hours)     8.776371\n",
      "LaborHours2024 (hours)        8.776371\n"
     ]
    }
   ],
   "execution_count": 12
  },
  {
   "metadata": {
    "ExecuteTime": {
     "end_time": "2025-05-15T23:27:24.390093Z",
     "start_time": "2025-05-15T23:27:24.364913Z"
    }
   },
   "cell_type": "code",
   "source": [
    "#Counts the amount of different types of departments we have\n",
    "dept_counts = df['Department'].value_counts()\n",
    "print(dept_counts)"
   ],
   "id": "be4b6deef5209556",
   "outputs": [
    {
     "name": "stdout",
     "output_type": "stream",
     "text": [
      "Department\n",
      "ENGINEERING STREETS OPER.                      210\n",
      "PARK BOARD VANCOUVER EAST DISTRICT             116\n",
      "ENGINEERING SEWERS OPER.                       106\n",
      "ENGINEERING SANITATION UTILITY                  74\n",
      "PARK BOARD QUEEN ELIZABETH DISTRICT             73\n",
      "ENGINEERING WATERWORKS OPER.                    65\n",
      "ENGINEERING TRAFF & ELEC SRVCS                  63\n",
      "PARK BOARD PLANNING AND OPERATIONS              61\n",
      "ENGINEERING TRANSFER AND LANDFILL OPER.         52\n",
      "REAL ESTATE & FACILITIES MANAGEMENT             52\n",
      "ENGINEERING SANITATION OPER.                    51\n",
      "PARK BOARD STANLEY DISTRICT                     39\n",
      "ENGINEERING EQUIPMENT OPER.                     32\n",
      "ENGINEERING PARKING OPERATIONS ENFORCEMENT      29\n",
      "ENGINEERING EQS LOANER POOL                     25\n",
      "ENGINEERING EQUIPMENT CAR SHARE                 12\n",
      "ENGINEERING KENT CONSTRUCTION S & S             11\n",
      "ENGINEERING SMALL EQUIP. POOL                   11\n",
      "ENGINEERING PROJECTS                            10\n",
      "ENGINEERING STREETS DESIGN                       8\n",
      "ENGINEERING PARKING OPERATIONS COLLECTIONS       8\n",
      "VANCOUVER ANIMAL CONTROL                         8\n",
      "ENGINEERING SEWERS & DRAINAGE DESIGN             7\n",
      "ENGINEERING PARKING OPERATIONS MAINTENANCE       6\n",
      "CEMETERY                                         5\n",
      "LIBRARY                                          5\n",
      "ENGINEERING WATERWORKS DESIGN                    5\n",
      "ENGINEERING SOLID WASTE MNGMNT                   4\n",
      "LICENSES AND INSPECTIONS CITY HALL               3\n",
      "ENGINEERING TRAFFIC MANAGEMENT                   3\n",
      "FINANCE CENTRAL STORES                           3\n",
      "ENGINEERING SURVEY                               3\n",
      "ENGINEERING ELECTRICAL DESIGN                    3\n",
      "ENGINEERING YARDS                                2\n",
      "FINANCE ADMINISTRATION                           2\n",
      "ENGINEERING STREETS STRUCTURES                   2\n",
      "HR EMERGENCY MANAGEMENT                          2\n",
      "CITY CARPOOL PROGRAM                             2\n",
      "FINANCE BYLAW FINES                              1\n",
      "FACILITIES - TACTICAL TRAINING CENTRE            1\n",
      "PLANNING                                         1\n",
      "PARK BOARD UNSPECIFIED                           1\n",
      "ENGINEERING FILM/SPECIAL EVENTS                  1\n",
      "ENGINEERING STREETS ADMIN                        1\n",
      "COMMUNITY SERVICES GROUP                         1\n",
      "COMMUNITY SERVICES GROUP NON-MARKET HOUSING      1\n",
      "CIVIC THEATRES                                   1\n",
      "CITY MANAGERS OFFICE                             1\n",
      "ENGINEERING EQUIPMENT MNGMNT.                    1\n",
      "FINANCE GENERAL MANAGER'S OFFICE                 1\n",
      "Name: count, dtype: int64\n"
     ]
    }
   ],
   "execution_count": 13
  },
  {
   "metadata": {
    "ExecuteTime": {
     "end_time": "2025-05-15T23:27:25.292671Z",
     "start_time": "2025-05-15T23:27:25.280869Z"
    }
   },
   "cell_type": "code",
   "source": [
    "#Counts the amount of equipment category we have\n",
    "equip_type = df['Equipment Category'].value_counts()\n",
    "print(equip_type)"
   ],
   "id": "a4f1b0abcbe3a049",
   "outputs": [
    {
     "name": "stdout",
     "output_type": "stream",
     "text": [
      "Equipment Category\n",
      "light duty    549\n",
      "hvy trk       378\n",
      "hvy equip     258\n",
      "Name: count, dtype: int64\n"
     ]
    }
   ],
   "execution_count": 14
  },
  {
   "metadata": {
    "ExecuteTime": {
     "end_time": "2025-05-15T23:59:35.907088Z",
     "start_time": "2025-05-15T23:59:35.897226Z"
    }
   },
   "cell_type": "code",
   "source": [
    "#Average mileage in km per department\n",
    "avg_mileage_by_dept = df.groupby('Department')['Mileage2024 (km)'].mean()\n",
    "print(avg_mileage_by_dept.sort_values(ascending=False)) #put it in descending order"
   ],
   "id": "5f7442d37996ed8d",
   "outputs": [
    {
     "name": "stdout",
     "output_type": "stream",
     "text": [
      "Department\n",
      "CITY MANAGERS OFFICE                           25945.000000\n",
      "ENGINEERING TRANSFER AND LANDFILL OPER.        22723.125000\n",
      "FINANCE BYLAW FINES                            19222.000000\n",
      "FINANCE ADMINISTRATION                         19087.000000\n",
      "ENGINEERING SANITATION OPER.                   14117.976190\n",
      "ENGINEERING STREETS ADMIN                      12689.000000\n",
      "LIBRARY                                        12683.200000\n",
      "CITY CARPOOL PROGRAM                           12597.000000\n",
      "ENGINEERING PARKING OPERATIONS ENFORCEMENT     12565.857143\n",
      "ENGINEERING SANITATION UTILITY                 12438.945946\n",
      "ENGINEERING SEWERS OPER.                       11755.308824\n",
      "VANCOUVER ANIMAL CONTROL                       11066.857143\n",
      "ENGINEERING PARKING OPERATIONS MAINTENANCE     10505.833333\n",
      "ENGINEERING SMALL EQUIP. POOL                   9996.545455\n",
      "PARK BOARD STANLEY DISTRICT                     9834.041667\n",
      "PARK BOARD PLANNING AND OPERATIONS              9060.588235\n",
      "ENGINEERING ELECTRICAL DESIGN                   8878.666667\n",
      "ENGINEERING SEWERS & DRAINAGE DESIGN            8405.285714\n",
      "ENGINEERING STREETS OPER.                       8320.304348\n",
      "ENGINEERING WATERWORKS OPER.                    7929.593220\n",
      "ENGINEERING PARKING OPERATIONS COLLECTIONS      7888.000000\n",
      "COMMUNITY SERVICES GROUP                        7615.000000\n",
      "PARK BOARD VANCOUVER EAST DISTRICT              7424.512195\n",
      "ENGINEERING WATERWORKS DESIGN                   7400.200000\n",
      "ENGINEERING PROJECTS                            6877.125000\n",
      "REAL ESTATE & FACILITIES MANAGEMENT             6858.720000\n",
      "PARK BOARD QUEEN ELIZABETH DISTRICT             6664.340909\n",
      "ENGINEERING SOLID WASTE MNGMNT                  6569.500000\n",
      "ENGINEERING TRAFF & ELEC SRVCS                  6283.982143\n",
      "ENGINEERING EQUIPMENT MNGMNT.                   6212.000000\n",
      "ENGINEERING EQUIPMENT CAR SHARE                 5964.500000\n",
      "ENGINEERING EQUIPMENT OPER.                     5586.043478\n",
      "CEMETERY                                        5402.000000\n",
      "ENGINEERING KENT CONSTRUCTION S & S             5347.857143\n",
      "ENGINEERING EQS LOANER POOL                     4937.880000\n",
      "ENGINEERING SURVEY                              4913.333333\n",
      "ENGINEERING STREETS DESIGN                      4588.750000\n",
      "ENGINEERING TRAFFIC MANAGEMENT                  4559.333333\n",
      "COMMUNITY SERVICES GROUP NON-MARKET HOUSING     3245.000000\n",
      "HR EMERGENCY MANAGEMENT                         3148.000000\n",
      "ENGINEERING FILM/SPECIAL EVENTS                 2796.000000\n",
      "CIVIC THEATRES                                  2713.000000\n",
      "LICENSES AND INSPECTIONS CITY HALL              1898.000000\n",
      "ENGINEERING STREETS STRUCTURES                  1779.000000\n",
      "PLANNING                                         373.000000\n",
      "PARK BOARD UNSPECIFIED                           219.000000\n",
      "ENGINEERING YARDS                                       NaN\n",
      "FACILITIES - TACTICAL TRAINING CENTRE                   NaN\n",
      "FINANCE CENTRAL STORES                                  NaN\n",
      "FINANCE GENERAL MANAGER'S OFFICE                        NaN\n",
      "Name: Mileage2024 (km), dtype: float64\n"
     ]
    }
   ],
   "execution_count": 24
  },
  {
   "metadata": {
    "ExecuteTime": {
     "end_time": "2025-05-16T00:01:15.445595Z",
     "start_time": "2025-05-16T00:01:15.391287Z"
    }
   },
   "cell_type": "code",
   "source": [
    "#Average hours per department\n",
    "avg_hours_per_dept = df.groupby('Department')['HourMeter2024 (hours)'].mean()\n",
    "print(avg_hours_per_dept.sort_values(ascending=False))"
   ],
   "id": "29fd3882167d1e34",
   "outputs": [
    {
     "name": "stdout",
     "output_type": "stream",
     "text": [
      "Department\n",
      "ENGINEERING SANITATION UTILITY                 1388.294118\n",
      "ENGINEERING TRANSFER AND LANDFILL OPER.        1123.840000\n",
      "ENGINEERING WATERWORKS OPER.                    925.000000\n",
      "ENGINEERING SANITATION OPER.                    882.500000\n",
      "ENGINEERING KENT CONSTRUCTION S & S             622.500000\n",
      "CEMETERY                                        554.666667\n",
      "PARK BOARD STANLEY DISTRICT                     475.642857\n",
      "PARK BOARD VANCOUVER EAST DISTRICT              384.835294\n",
      "ENGINEERING STREETS OPER.                       381.126582\n",
      "FINANCE CENTRAL STORES                          370.000000\n",
      "PARK BOARD PLANNING AND OPERATIONS              314.083333\n",
      "ENGINEERING SEWERS OPER.                        292.780488\n",
      "ENGINEERING EQS LOANER POOL                     200.000000\n",
      "ENGINEERING EQUIPMENT OPER.                     193.666667\n",
      "PARK BOARD QUEEN ELIZABETH DISTRICT             157.920000\n",
      "ENGINEERING TRAFF & ELEC SRVCS                   47.833333\n",
      "FACILITIES - TACTICAL TRAINING CENTRE             0.000000\n",
      "ENGINEERING YARDS                                 0.000000\n",
      "REAL ESTATE & FACILITIES MANAGEMENT               0.000000\n",
      "CITY CARPOOL PROGRAM                                   NaN\n",
      "CITY MANAGERS OFFICE                                   NaN\n",
      "CIVIC THEATRES                                         NaN\n",
      "COMMUNITY SERVICES GROUP                               NaN\n",
      "COMMUNITY SERVICES GROUP NON-MARKET HOUSING            NaN\n",
      "ENGINEERING ELECTRICAL DESIGN                          NaN\n",
      "ENGINEERING EQUIPMENT CAR SHARE                        NaN\n",
      "ENGINEERING EQUIPMENT MNGMNT.                          NaN\n",
      "ENGINEERING FILM/SPECIAL EVENTS                        NaN\n",
      "ENGINEERING PARKING OPERATIONS COLLECTIONS             NaN\n",
      "ENGINEERING PARKING OPERATIONS ENFORCEMENT             NaN\n",
      "ENGINEERING PARKING OPERATIONS MAINTENANCE             NaN\n",
      "ENGINEERING PROJECTS                                   NaN\n",
      "ENGINEERING SEWERS & DRAINAGE DESIGN                   NaN\n",
      "ENGINEERING SMALL EQUIP. POOL                          NaN\n",
      "ENGINEERING SOLID WASTE MNGMNT                         NaN\n",
      "ENGINEERING STREETS ADMIN                              NaN\n",
      "ENGINEERING STREETS DESIGN                             NaN\n",
      "ENGINEERING STREETS STRUCTURES                         NaN\n",
      "ENGINEERING SURVEY                                     NaN\n",
      "ENGINEERING TRAFFIC MANAGEMENT                         NaN\n",
      "ENGINEERING WATERWORKS DESIGN                          NaN\n",
      "FINANCE ADMINISTRATION                                 NaN\n",
      "FINANCE BYLAW FINES                                    NaN\n",
      "FINANCE GENERAL MANAGER'S OFFICE                       NaN\n",
      "HR EMERGENCY MANAGEMENT                                NaN\n",
      "LIBRARY                                                NaN\n",
      "LICENSES AND INSPECTIONS CITY HALL                     NaN\n",
      "PARK BOARD UNSPECIFIED                                 NaN\n",
      "PLANNING                                               NaN\n",
      "VANCOUVER ANIMAL CONTROL                               NaN\n",
      "Name: HourMeter2024 (hours), dtype: float64\n"
     ]
    }
   ],
   "execution_count": 25
  },
  {
   "metadata": {
    "ExecuteTime": {
     "end_time": "2025-05-16T00:29:49.468487Z",
     "start_time": "2025-05-16T00:29:49.197669Z"
    }
   },
   "cell_type": "code",
   "source": [
    "#Average mileage of each equipment type\n",
    "avg_mileage_by_type = df.groupby('Equipment Category')['Mileage2024 (km)'].mean()\n",
    "print(avg_mileage_by_type.sort_values(ascending=False))"
   ],
   "id": "92abdc50d370770b",
   "outputs": [
    {
     "name": "stdout",
     "output_type": "stream",
     "text": [
      "Equipment Category\n",
      "hvy trk       9926.708589\n",
      "light duty    8518.428843\n",
      "hvy equip             NaN\n",
      "Name: Mileage2024 (km), dtype: float64\n"
     ]
    }
   ],
   "execution_count": 33
  },
  {
   "metadata": {
    "ExecuteTime": {
     "end_time": "2025-05-16T00:29:55.643107Z",
     "start_time": "2025-05-16T00:29:55.626713Z"
    }
   },
   "cell_type": "code",
   "source": [
    "#Average hours per equipment category\n",
    "avg_hours_by_type = df.groupby('Equipment Category')['HourMeter2024 (hours)'].mean()\n",
    "print(avg_hours_by_type.sort_values(ascending=False))"
   ],
   "id": "c5df8d0efd23d9b",
   "outputs": [
    {
     "name": "stdout",
     "output_type": "stream",
     "text": [
      "Equipment Category\n",
      "hvy trk       805.723404\n",
      "light duty    462.818182\n",
      "hvy equip     409.045082\n",
      "Name: HourMeter2024 (hours), dtype: float64\n"
     ]
    }
   ],
   "execution_count": 34
  }
 ],
 "metadata": {
  "kernelspec": {
   "display_name": "Python 3",
   "language": "python",
   "name": "python3"
  },
  "language_info": {
   "codemirror_mode": {
    "name": "ipython",
    "version": 2
   },
   "file_extension": ".py",
   "mimetype": "text/x-python",
   "name": "python",
   "nbconvert_exporter": "python",
   "pygments_lexer": "ipython2",
   "version": "2.7.6"
  }
 },
 "nbformat": 4,
 "nbformat_minor": 5
}
