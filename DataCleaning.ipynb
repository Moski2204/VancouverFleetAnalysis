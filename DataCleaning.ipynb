{
 "cells": [
  {
   "metadata": {
    "ExecuteTime": {
     "end_time": "2025-05-11T22:24:53.050253Z",
     "start_time": "2025-05-11T22:24:53.027959Z"
    }
   },
   "cell_type": "code",
   "source": "import pandas as pd ",
   "id": "79b4c65f82b5c867",
   "outputs": [],
   "execution_count": 7
  },
  {
   "metadata": {
    "ExecuteTime": {
     "end_time": "2025-05-11T22:24:53.457033Z",
     "start_time": "2025-05-11T22:24:53.427534Z"
    }
   },
   "cell_type": "code",
   "source": "df = pd.read_csv('FA1 Scenario Dataset - Rolling Stock Fleet (1).csv')",
   "id": "d1f9128374d44846",
   "outputs": [],
   "execution_count": 8
  },
  {
   "metadata": {
    "ExecuteTime": {
     "end_time": "2025-05-11T22:24:53.903547Z",
     "start_time": "2025-05-11T22:24:53.891760Z"
    }
   },
   "cell_type": "code",
   "source": [
    "missing_pct = df.isnull().mean() * 100\n",
    "print(missing_pct.to_string()) #Shows the percentage of null values in each column"
   ],
   "id": "b31a658ffc9ffa2",
   "outputs": [
    {
     "name": "stdout",
     "output_type": "stream",
     "text": [
      "Equipment Number              0.000000\n",
      "Equipment Class               0.000000\n",
      "Equipment Category            0.000000\n",
      "Service Group                 0.000000\n",
      "Department                    0.000000\n",
      "Make                          0.000000\n",
      "Model                         0.000000\n",
      "Year                          0.000000\n",
      "Site                          0.000000\n",
      "Mileage2024 (km)             28.016878\n",
      "HourMeter2024 (hours)        69.620253\n",
      "DowntimeHours2024 (hours)     8.776371\n",
      "LaborHours2024 (hours)        8.776371\n"
     ]
    }
   ],
   "execution_count": 9
  },
  {
   "metadata": {},
   "cell_type": "code",
   "outputs": [],
   "execution_count": null,
   "source": "",
   "id": "be4b6deef5209556"
  }
 ],
 "metadata": {
  "kernelspec": {
   "display_name": "Python 3",
   "language": "python",
   "name": "python3"
  },
  "language_info": {
   "codemirror_mode": {
    "name": "ipython",
    "version": 2
   },
   "file_extension": ".py",
   "mimetype": "text/x-python",
   "name": "python",
   "nbconvert_exporter": "python",
   "pygments_lexer": "ipython2",
   "version": "2.7.6"
  }
 },
 "nbformat": 4,
 "nbformat_minor": 5
}
